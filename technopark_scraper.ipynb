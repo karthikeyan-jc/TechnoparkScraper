{
 "cells": [
  {
   "cell_type": "code",
   "execution_count": 34,
   "id": "085c2efa",
   "metadata": {},
   "outputs": [],
   "source": [
    "from selenium import webdriver\n",
    "from bs4 import BeautifulSoup\n",
    "import time\n",
    "import csv\n",
    "\n",
    "driver = webdriver.Firefox()\n",
    "driver.get(\"https://www.technopark.org/company-a-z-listing\")\n",
    "screen_height = driver.execute_script(\"return window.screen.height;\")\n",
    "\n",
    "i = 1\n",
    "while True:\n",
    "    driver.execute_script(\"window.scrollTo(0, {screen_height}*{i});\".format(screen_height=screen_height, i=i))  \n",
    "    i += 1\n",
    "    time.sleep(5)\n",
    "    scroll_height = driver.execute_script(\"return document.body.scrollHeight;\")  \n",
    "    if (screen_height) * i > scroll_height:\n",
    "        break\n",
    "        \n"
   ]
  },
  {
   "cell_type": "code",
   "execution_count": 35,
   "id": "f0a9cc74",
   "metadata": {},
   "outputs": [],
   "source": [
    "soup=BeautifulSoup(driver.page_source,features=\"lxml\")\n",
    "links = []\n",
    "for j in soup.find_all(\"a\"):\n",
    "    link=j.get(\"href\")\n",
    "    if(link and link.startswith('/company/')):\n",
    "        links.append(link)\n",
    "        \n",
    "csv_list=[]\n",
    "for link in links:\n",
    "    driver.get('https://www.technopark.org'+link)\n",
    "    soup=BeautifulSoup(driver.page_source, features=\"lxml\")\n",
    "    list=soup.find(\"ul\",{\"class\":\"list-sx\"})\n",
    "    list=list.find_all(\"li\")\n",
    "    name=list[1].contents[2]\n",
    "    name=' '.join(name.split())\n",
    "    address=list[2].contents[2]\n",
    "    address=' '.join(address.split())\n",
    "    mail=list[5].find(\"a\").contents[0]\n",
    "    csv_list.append([name,address,mail])\n",
    "    \n",
    "header = ['NAME', 'ADDRESS', 'MAIL']\n",
    "with open('technopark.csv', 'w', encoding='UTF8', newline='') as f:\n",
    "    writer = csv.writer(f)\n",
    "    writer.writerow(header)\n",
    "    for csv in csv_list:\n",
    "        writer.writerow(csv)"
   ]
  },
  {
   "cell_type": "code",
   "execution_count": null,
   "id": "2821f70e",
   "metadata": {},
   "outputs": [],
   "source": []
  }
 ],
 "metadata": {
  "kernelspec": {
   "display_name": "Python 3 (ipykernel)",
   "language": "python",
   "name": "python3"
  },
  "language_info": {
   "codemirror_mode": {
    "name": "ipython",
    "version": 3
   },
   "file_extension": ".py",
   "mimetype": "text/x-python",
   "name": "python",
   "nbconvert_exporter": "python",
   "pygments_lexer": "ipython3",
   "version": "3.11.0"
  }
 },
 "nbformat": 4,
 "nbformat_minor": 5
}
